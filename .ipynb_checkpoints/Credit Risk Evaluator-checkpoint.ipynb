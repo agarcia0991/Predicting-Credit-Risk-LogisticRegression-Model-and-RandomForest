{
 "cells": [
  {
   "cell_type": "code",
   "execution_count": 1,
   "metadata": {},
   "outputs": [],
   "source": [
    "import numpy as np\n",
    "import pandas as pd\n",
    "from pathlib import Path"
   ]
  },
  {
   "cell_type": "code",
   "execution_count": 8,
   "metadata": {},
   "outputs": [],
   "source": [
    "train_df = pd.read_csv(Path('Resources/2019loans.csv'))\n",
    "test_df = pd.read_csv(Path('Resources/2020Q1loans.csv'))"
   ]
  },
  {
   "cell_type": "code",
   "execution_count": 11,
   "metadata": {},
   "outputs": [],
   "source": [
    "# Convert categorical data to numeric and separate target feature for training data\n",
    "\n",
    "Yes_No_dict = {'Y':1,'N':0}\n",
    "train_df2 = train_df.replace({'hardship_flag':Yes_No_dict, 'debt_settlement_flag':Yes_No_dict})\n",
    "Home_ownership_dict = {'ANY':0,'RENT':1,'MORTGAGE':2,'OWN':3}\n",
    "\n",
    "train_df3 = train_df2.replace({'home_ownership':Home_ownership_dict})\n",
    "verification_dict = {'Not Verified':0,'Source Verified':1,'Verified':1}\n",
    "\n",
    "train_df4 = train_df3.replace({'verification_status':verification_dict})\n",
    "Loan_status_dict = {'low_risk':1,'high_risk':0}\n",
    "\n",
    "train_df5 = train_df4.replace({'loan_status':Loan_status_dict})\n",
    "Initial_list_status_dict = {'w':0,'f':1}\n",
    "\n",
    "train_df6 = train_df5.replace({'initial_list_status':Initial_list_status_dict})\n",
    "Application_Type_dict = {'Individual':1,'Joint App':0}\n",
    "\n",
    "train_df7 = train_df6.replace({'application_type':Application_Type_dict})\n",
    "\n",
    "train_df8 = train_df7.drop(['index','pymnt_plan'],axis='columns')\n",
    "\n",
    "file_path = Path('Resources/cleaned_2019_credit_data.csv')\n",
    "train_df8.to_csv(file_path, index=False)\n"
   ]
  },
  {
   "cell_type": "code",
   "execution_count": 12,
   "metadata": {},
   "outputs": [
    {
     "name": "stdout",
     "output_type": "stream",
     "text": [
      "Empty DataFrame\n",
      "Columns: []\n",
      "Index: [0, 1, 2, 3, 4, 5, 6, 7, 8, 9, 10, 11, 12, 13, 14, 15, 16, 17, 18, 19, 20, 21, 22, 23, 24, 25, 26, 27, 28, 29, 30, 31, 32, 33, 34, 35, 36, 37, 38, 39, 40, 41, 42, 43, 44, 45, 46, 47, 48, 49, 50, 51, 52, 53, 54, 55, 56, 57, 58, 59, 60, 61, 62, 63, 64, 65, 66, 67, 68, 69, 70, 71, 72, 73, 74, 75, 76, 77, 78, 79, 80, 81, 82, 83, 84, 85, 86, 87, 88, 89, 90, 91, 92, 93, 94, 95, 96, 97, 98, 99, ...]\n",
      "\n",
      "[12180 rows x 0 columns]\n"
     ]
    }
   ],
   "source": [
    "training_df9 = training_df8.drop(['Unnamed: 0'],axis='columns')\n",
    "training_df9.head()\n",
    "\n",
    "X_training = training_df9.drop('loan_status', axis=1)\n",
    "y_training = training_df9['loan_status'].values\n",
    "print(X_training.select_dtypes(include=[object]))"
   ]
  },
  {
   "cell_type": "code",
   "execution_count": null,
   "metadata": {},
   "outputs": [],
   "source": [
    "# Convert categorical data to numeric and separate target feature for testing data"
   ]
  },
  {
   "cell_type": "code",
   "execution_count": null,
   "metadata": {},
   "outputs": [],
   "source": [
    "# add missing dummy variables to testing set"
   ]
  },
  {
   "cell_type": "code",
   "execution_count": null,
   "metadata": {},
   "outputs": [],
   "source": [
    "# Train the Logistic Regression model on the unscaled data and print the model score"
   ]
  },
  {
   "cell_type": "code",
   "execution_count": null,
   "metadata": {},
   "outputs": [],
   "source": [
    "# Train a Random Forest Classifier model and print the model score"
   ]
  },
  {
   "cell_type": "code",
   "execution_count": null,
   "metadata": {},
   "outputs": [],
   "source": [
    "# Scale the data"
   ]
  },
  {
   "cell_type": "code",
   "execution_count": null,
   "metadata": {},
   "outputs": [],
   "source": [
    "# Train the Logistic Regression model on the scaled data and print the model score"
   ]
  },
  {
   "cell_type": "code",
   "execution_count": null,
   "metadata": {},
   "outputs": [],
   "source": [
    "# Train a Random Forest Classifier model on the scaled data and print the model score"
   ]
  }
 ],
 "metadata": {
  "kernelspec": {
   "display_name": "Python 3 (ipykernel)",
   "language": "python",
   "name": "python3"
  },
  "language_info": {
   "codemirror_mode": {
    "name": "ipython",
    "version": 3
   },
   "file_extension": ".py",
   "mimetype": "text/x-python",
   "name": "python",
   "nbconvert_exporter": "python",
   "pygments_lexer": "ipython3",
   "version": "3.9.7"
  }
 },
 "nbformat": 4,
 "nbformat_minor": 4
}
